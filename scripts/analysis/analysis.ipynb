{
 "metadata": {
  "language_info": {
   "codemirror_mode": {
    "name": "ipython",
    "version": 3
   },
   "file_extension": ".py",
   "mimetype": "text/x-python",
   "name": "python",
   "nbconvert_exporter": "python",
   "pygments_lexer": "ipython3",
   "version": "3.6.9"
  },
  "orig_nbformat": 4,
  "kernelspec": {
   "name": "python3",
   "display_name": "Python 3.6.9 64-bit"
  },
  "interpreter": {
   "hash": "31f2aee4e71d21fbe5cf8b01ff0e069b9275f58929596ceb00d14d90e3e16cd6"
  }
 },
 "nbformat": 4,
 "nbformat_minor": 2,
 "cells": [
  {
   "source": [
    "# What \n",
    "We are trying to analyze the statement that \"gas efficiency\" wins the blind auctions. Specifically, look at how much gas I consume, look at all bundles that consume roughly the same amount of gas, then plot the total coinbase reward to miners. Ideally we also get info about eth price at the time the bundle is included. \n"
   ],
   "cell_type": "markdown",
   "metadata": {}
  },
  {
   "cell_type": "code",
   "execution_count": 1,
   "metadata": {},
   "outputs": [],
   "source": [
    "import json\n",
    "\n",
    "data = open(\"data.json\")\n",
    "data_str = data.read()\n",
    "data_json = json.loads(data_str)\n",
    "\n"
   ]
  },
  {
   "cell_type": "code",
   "execution_count": 2,
   "metadata": {},
   "outputs": [
    {
     "output_type": "stream",
     "name": "stdout",
     "text": [
      "<class 'list'>\n"
     ]
    }
   ],
   "source": [
    "import matplotlib.pyplot as plt \n",
    "import numpy as np\n",
    "\n",
    "map(lambda x: , data_json)"
   ]
  },
  {
   "source": [
    "Profit price per gas? How would I check this? Well I would simulate the. No I pay the gas price that still keeps me profitable. No there's something I'm missing though. Does it mean there is going to be someone that always pays 95% to the miner and makes me lose? The problem with my approach is that I don't take into account how much profit was made by that bot. \n",
    "\n",
    "Pre bundle merging(probably not that much data out there yet so still valid to analyze this)\n",
    "\n",
    "Assume I am earning discount of `x` USD from the liquidation. Then there are two cases:\n",
    "\n",
    "(1) the pure profit `y > x` so I will make \n",
    "\n",
    "(2) `y <= x` \n",
    "\n",
    "\n",
    "Post bundle merging (look at release date of v0.2)\n",
    "Really I should only care about what other liquidators are doing. I could run a trace to see if they interact with the . Because of bundle merging I don't care what everyone else does.\n",
    "\n",
    "Analysis pipeline to see what the best bots do: the graph protocol liquidators (i should see how much they pay here), flashbots blocks api"
   ],
   "cell_type": "markdown",
   "metadata": {}
  }
 ]
}